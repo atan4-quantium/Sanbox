{
 "cells": [
  {
   "cell_type": "code",
   "execution_count": null,
   "metadata": {},
   "outputs": [],
   "source": [
    "import os\n",
    "from dotenv import load_dotenv\n",
    "import nest_asyncio\n",
    "\n",
    "nest_asyncio.apply()\n",
    "load_dotenv()"
   ]
  },
  {
   "cell_type": "code",
   "execution_count": 3,
   "metadata": {},
   "outputs": [],
   "source": [
    "# Fill in the following values\n",
    "PROVIDER = \"github\" # GitHub provider\n",
    "MODEL = \"vertex_ai/gemini-1.5-flash\"\n",
    "\n",
    "# Access the environment variables from the .env file\n",
    "USER_TOKEN = os.environ.get('USER_TOKEN')  # GitHub user token - based on a each user account\n",
    "PROJECT_ID = os.environ.get('PROJECT_ID')  # this is tied to your personal gcp's application_default_credentials.json"
   ]
  },
  {
   "cell_type": "code",
   "execution_count": 7,
   "metadata": {},
   "outputs": [],
   "source": [
    "from pr_agent import cli\n",
    "from pr_agent.config_loader import get_settings\n",
    "\n",
    "\n",
    "def main(url: str, command: str = \"review\"):\n",
    "    \"\"\"\n",
    "    Args:\n",
    "        PR_URL (str): PR URL, for example 'https://github.com/Codium-ai/pr-agent/pull/809'\n",
    "        COMMAND (str): Command to run (e.g. '/review', '/describe', '/ask=\"What is the purpose of this PR?\"', ...). Defaults to \"/review\".\n",
    "    \"\"\"\n",
    "    # Setting the configurations\n",
    "    get_settings().set(\"CONFIG.git_provider\", PROVIDER)\n",
    "    get_settings().set(\"github.user_token\", USER_TOKEN)\n",
    "\n",
    "    # Set authentication    \n",
    "    get_settings().set(\"vertexai.vertex_project\", PROJECT_ID)\n",
    "    get_settings().set(\"vertexai.vertex_location\", None)\n",
    "    \n",
    "    # Set models\n",
    "    get_settings().set(\"config.model\", MODEL)\n",
    "    get_settings().set(\"config.model_turbo\", MODEL)\n",
    "    get_settings().set(\"config.fallback_models\",MODEL)\n",
    "    \n",
    "    # Additional instructions\n",
    "    instructions = \"\"\"\\\n",
    "        (1) Review the comments and only provide suggestions to the comments and do not remove any\n",
    "        (2) Recommend code syntax with the best practices or suggest more efficient code practices based on the programming language used in the PR\n",
    "    \"\"\"\n",
    "    get_settings().set(\"pr_code_suggestions.extra_instructions\", instructions)\n",
    "    get_settings().set(\"pr_reviewer.extra_instructions\", instructions)\n",
    "    \n",
    "    # Run the command. Feedback will appear in GitHub PR comments\n",
    "    cli.run_command(url, f\"/{command}\")"
   ]
  },
  {
   "cell_type": "code",
   "execution_count": null,
   "metadata": {},
   "outputs": [],
   "source": [
    "# PR URL, for example 'https://github.com/Codium-ai/pr-agent/pull/809'\n",
    "PR_URL = \"\"\n",
    "\n",
    "# Run pr-agent\n",
    "# command = ['review', 'improve', 'describe', 'ask ...']\n",
    "main(PR_URL, \"review\")\n",
    "main(PR_URL, \"improve\")"
   ]
  }
 ],
 "metadata": {
  "kernelspec": {
   "display_name": ".venv",
   "language": "python",
   "name": "python3"
  },
  "language_info": {
   "codemirror_mode": {
    "name": "ipython",
    "version": 3
   },
   "file_extension": ".py",
   "mimetype": "text/x-python",
   "name": "python",
   "nbconvert_exporter": "python",
   "pygments_lexer": "ipython3",
   "version": "3.10.9"
  }
 },
 "nbformat": 4,
 "nbformat_minor": 2
}
