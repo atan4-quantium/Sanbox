{
 "cells": [
  {
   "cell_type": "code",
   "execution_count": 1,
   "metadata": {},
   "outputs": [
    {
     "data": {
      "text/plain": [
       "True"
      ]
     },
     "execution_count": 1,
     "metadata": {},
     "output_type": "execute_result"
    }
   ],
   "source": [
    "import os\n",
    "from dotenv import load_dotenv\n",
    "import nest_asyncio\n",
    "\n",
    "nest_asyncio.apply()\n",
    "load_dotenv()"
   ]
  },
  {
   "cell_type": "code",
   "execution_count": 2,
   "metadata": {},
   "outputs": [],
   "source": [
    "# Fill in the following values\n",
    "PROVIDER = \"github\" # GitHub provider\n",
    "MODEL = \"vertex_ai/gemini-1.5-flash\"\n",
    "\n",
    "# Access the environment variables from the .env file\n",
    "USER_TOKEN = os.environ.get('USER_TOKEN')  # GitHub user token - based on a each user account\n",
    "PROJECT_ID = os.environ.get('PROJECT_ID')  # this is tied to your personal gcp's application_default_credentials.json"
   ]
  },
  {
   "cell_type": "code",
   "execution_count": 3,
   "metadata": {},
   "outputs": [],
   "source": [
    "from pr_agent import cli\n",
    "from pr_agent.config_loader import get_settings\n",
    "\n",
    "\n",
    "def main(url: str, command: str = \"review\"):\n",
    "    \"\"\"\n",
    "    Args:\n",
    "        PR_URL (str): PR URL, for example 'https://github.com/Codium-ai/pr-agent/pull/809'\n",
    "        COMMAND (str): Command to run (e.g. '/review', '/describe', '/ask=\"What is the purpose of this PR?\"', ...). Defaults to \"/review\".\n",
    "    \"\"\"\n",
    "    # Setting the configurations\n",
    "    get_settings().set(\"CONFIG.git_provider\", PROVIDER)\n",
    "    get_settings().set(\"github.user_token\", USER_TOKEN)\n",
    "\n",
    "    # Set authentication    \n",
    "    get_settings().set(\"vertexai.vertex_project\", PROJECT_ID)\n",
    "    get_settings().set(\"vertexai.vertex_location\", None)\n",
    "    \n",
    "    # Set models\n",
    "    get_settings().set(\"config.model\", MODEL)\n",
    "    get_settings().set(\"config.model_turbo\", MODEL)\n",
    "    get_settings().set(\"config.fallback_models\",MODEL)\n",
    "\n",
    "    # Run the command. Feedback will appear in GitHub PR comments\n",
    "    cli.run_command(url, f\"/{command}\")"
   ]
  },
  {
   "cell_type": "code",
   "execution_count": 8,
   "metadata": {},
   "outputs": [
    {
     "name": "stdout",
     "output_type": "stream",
     "text": [
      "\u001b[32m2024-09-16 09:45:58.398\u001b[0m | \u001b[1mINFO    \u001b[0m | \u001b[36mpr_agent.tools.pr_code_suggestions\u001b[0m:\u001b[36m__init__\u001b[0m:\u001b[36m38\u001b[0m - \u001b[1mSetting max_model_tokens to 14000 for PR improve\u001b[0m\n",
      "\u001b[32m2024-09-16 09:45:58.881\u001b[0m | \u001b[1mINFO    \u001b[0m | \u001b[36mpr_agent.tools.pr_code_suggestions\u001b[0m:\u001b[36mrun\u001b[0m:\u001b[36m101\u001b[0m - \u001b[1mGenerating code suggestions for PR...\u001b[0m\n",
      "\u001b[32m2024-09-16 09:46:05.085\u001b[0m | \u001b[1mINFO    \u001b[0m | \u001b[36mpr_agent.tools.pr_code_suggestions\u001b[0m:\u001b[36m_prepare_prediction_extended\u001b[0m:\u001b[36m522\u001b[0m - \u001b[1mNumber of PR chunk calls: 1\u001b[0m\n",
      "\u001b[32m2024-09-16 09:46:14.204\u001b[0m | \u001b[1mINFO    \u001b[0m | \u001b[36mpr_agent.tools.pr_code_suggestions\u001b[0m:\u001b[36m_prepare_prediction_extended\u001b[0m:\u001b[36m547\u001b[0m - \u001b[1mRemoving suggestions 2 from call 0, because score is 0, and score_threshold is 1\u001b[0m\n"
     ]
    }
   ],
   "source": [
    "# PR URL, for example 'https://github.com/Codium-ai/pr-agent/pull/809'\n",
    "PR_URL = \"https://github.com/Q-Retail/qr_ngp_po_sub_routines/pull/636\"\n",
    "\n",
    "# Run pr-agent\n",
    "# command = ['review', 'improve', 'describe', 'ask ...']\n",
    "main(\n",
    "    url=PR_URL,\n",
    "    command=\"improve\"\n",
    ")"
   ]
  }
 ],
 "metadata": {
  "kernelspec": {
   "display_name": ".venv",
   "language": "python",
   "name": "python3"
  },
  "language_info": {
   "codemirror_mode": {
    "name": "ipython",
    "version": 3
   },
   "file_extension": ".py",
   "mimetype": "text/x-python",
   "name": "python",
   "nbconvert_exporter": "python",
   "pygments_lexer": "ipython3",
   "version": "3.12.0"
  }
 },
 "nbformat": 4,
 "nbformat_minor": 2
}
